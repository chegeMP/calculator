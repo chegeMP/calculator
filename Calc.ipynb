{
 "cells": [
  {
   "cell_type": "code",
   "execution_count": null,
   "id": "bc18f3ed-1a3f-4f52-9639-72d53c57c641",
   "metadata": {},
   "outputs": [
    {
     "name": "stdout",
     "output_type": "stream",
     "text": [
      "Simple Python Calculator\n",
      "Operations:\n",
      "1. Addition (+)\n",
      "2. Subtraction (-)\n",
      "3. Multiplication (*)\n",
      "4. Division (/)\n",
      "5. Exit\n"
     ]
    },
    {
     "name": "stdin",
     "output_type": "stream",
     "text": [
      "\n",
      "Enter operation (1-5) or symbol (+, -, *, /):  2+3\n",
      "Enter first number:  5\n",
      "Enter second number:  3\n"
     ]
    },
    {
     "name": "stdout",
     "output_type": "stream",
     "text": [
      "Invalid input! Please choose 1-5 or use +, -, *, /\n"
     ]
    },
    {
     "name": "stdin",
     "output_type": "stream",
     "text": [
      "\n",
      "Enter operation (1-5) or symbol (+, -, *, /):  +\n"
     ]
    }
   ],
   "source": [
    "def add(x, y):\n",
    "    return x + y\n",
    "\n",
    "def subtract(x, y):\n",
    "    return x - y\n",
    "\n",
    "def multiply(x, y):\n",
    "    return x * y\n",
    "\n",
    "def divide(x, y):\n",
    "    if y == 0:\n",
    "        return \"Error: Division by zero!\"\n",
    "    return x / y\n",
    "\n",
    "def calculator():\n",
    "    print(\"Simple Python Calculator\")\n",
    "    print(\"Operations:\")\n",
    "    print(\"1. Addition (+)\")\n",
    "    print(\"2. Subtraction (-)\")\n",
    "    print(\"3. Multiplication (*)\")\n",
    "    print(\"4. Division (/)\")\n",
    "    print(\"5. Exit\")\n",
    "    \n",
    "    while True:\n",
    "        try:\n",
    "            choice = input(\"\\nEnter operation (1-5) or symbol (+, -, *, /): \").strip()\n",
    "            \n",
    "            if choice in ['5', 'exit', 'quit']:\n",
    "                print(\"Goodbye!\")\n",
    "                break\n",
    "            \n",
    "            # Get numbers from user\n",
    "            num1 = float(input(\"Enter first number: \"))\n",
    "            num2 = float(input(\"Enter second number: \"))\n",
    "            \n",
    "            # Perform calculation based on choice\n",
    "            if choice in ['1', '+']:\n",
    "                result = add(num1, num2)\n",
    "                print(f\"{num1} + {num2} = {result}\")\n",
    "            elif choice in ['2', '-']:\n",
    "                result = subtract(num1, num2)\n",
    "                print(f\"{num1} - {num2} = {result}\")\n",
    "            elif choice in ['3', '*']:\n",
    "                result = multiply(num1, num2)\n",
    "                print(f\"{num1} * {num2} = {result}\")\n",
    "            elif choice in ['4', '/']:\n",
    "                result = divide(num1, num2)\n",
    "                if isinstance(result, str):  # Error message\n",
    "                    print(result)\n",
    "                else:\n",
    "                    print(f\"{num1} / {num2} = {result}\")\n",
    "            else:\n",
    "                print(\"Invalid input! Please choose 1-5 or use +, -, *, /\")\n",
    "                \n",
    "        except ValueError:\n",
    "            print(\"Invalid input! Please enter valid numbers.\")\n",
    "        except KeyboardInterrupt:\n",
    "            print(\"\\nGoodbye!\")\n",
    "            break\n",
    "\n",
    "# Run the calculator\n",
    "if __name__ == \"__main__\":\n",
    "    calculator()"
   ]
  },
  {
   "cell_type": "code",
   "execution_count": null,
   "id": "0b552fa2-9f7a-40a5-adba-b5998b66ddd3",
   "metadata": {},
   "outputs": [],
   "source": []
  }
 ],
 "metadata": {
  "kernelspec": {
   "display_name": "Python 3 (ipykernel)",
   "language": "python",
   "name": "python3"
  },
  "language_info": {
   "codemirror_mode": {
    "name": "ipython",
    "version": 3
   },
   "file_extension": ".py",
   "mimetype": "text/x-python",
   "name": "python",
   "nbconvert_exporter": "python",
   "pygments_lexer": "ipython3",
   "version": "3.12.7"
  }
 },
 "nbformat": 4,
 "nbformat_minor": 5
}
